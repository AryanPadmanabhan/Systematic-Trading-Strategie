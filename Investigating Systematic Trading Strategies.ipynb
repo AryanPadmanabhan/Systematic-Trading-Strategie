{
 "cells": [
  {
   "cell_type": "markdown",
   "id": "bf46fbbb",
   "metadata": {},
   "source": [
    "## Investigating Systematic Trading Strategies"
   ]
  },
  {
   "cell_type": "markdown",
   "id": "4d4d6cf2",
   "metadata": {},
   "source": [
    "In this script, we will utilize Python in order to backtest the Dragon Fly DOJI candle formation in locating market bottoms"
   ]
  },
  {
   "cell_type": "markdown",
   "id": "290ea532",
   "metadata": {},
   "source": [
    "Since we will be backtesting numerous different stocks, we will use the Yahoo Finance API to gather the OHLC data. "
   ]
  },
  {
   "cell_type": "code",
   "execution_count": 3,
   "id": "8820c1eb",
   "metadata": {},
   "outputs": [
    {
     "name": "stdout",
     "output_type": "stream",
     "text": [
      "Collecting yfinance\n",
      "  Downloading yfinance-0.2.3-py2.py3-none-any.whl (50 kB)\n",
      "\u001b[2K     \u001b[90m━━━━━━━━━━━━━━━━━━━━━━━━━━━━━━━━━━━━━━━\u001b[0m \u001b[32m50.4/50.4 kB\u001b[0m \u001b[31m608.1 kB/s\u001b[0m eta \u001b[36m0:00:00\u001b[0ma \u001b[36m0:00:01\u001b[0m\n",
      "\u001b[?25hRequirement already satisfied: appdirs>=1.4.4 in /Users/aryanpaddy/opt/anaconda3/lib/python3.9/site-packages (from yfinance) (1.4.4)\n",
      "Collecting pytz>=2022.5\n",
      "  Downloading pytz-2022.7-py2.py3-none-any.whl (499 kB)\n",
      "\u001b[2K     \u001b[90m━━━━━━━━━━━━━━━━━━━━━━━━━━━━━━━━━━━━━━━\u001b[0m \u001b[32m499.4/499.4 kB\u001b[0m \u001b[31m1.4 MB/s\u001b[0m eta \u001b[36m0:00:00\u001b[0m00:01\u001b[0m00:01\u001b[0m\n",
      "\u001b[?25hRequirement already satisfied: lxml>=4.9.1 in /Users/aryanpaddy/opt/anaconda3/lib/python3.9/site-packages (from yfinance) (4.9.1)\n",
      "Requirement already satisfied: beautifulsoup4>=4.11.1 in /Users/aryanpaddy/opt/anaconda3/lib/python3.9/site-packages (from yfinance) (4.11.1)\n",
      "Requirement already satisfied: numpy>=1.16.5 in /Users/aryanpaddy/opt/anaconda3/lib/python3.9/site-packages (from yfinance) (1.21.5)\n",
      "Collecting frozendict>=2.3.4\n",
      "  Downloading frozendict-2.3.4-cp39-cp39-macosx_10_9_x86_64.whl (33 kB)\n",
      "Requirement already satisfied: requests>=2.26 in /Users/aryanpaddy/opt/anaconda3/lib/python3.9/site-packages (from yfinance) (2.28.1)\n",
      "Requirement already satisfied: cryptography>=3.3.2 in /Users/aryanpaddy/opt/anaconda3/lib/python3.9/site-packages (from yfinance) (37.0.1)\n",
      "Collecting html5lib>=1.1\n",
      "  Downloading html5lib-1.1-py2.py3-none-any.whl (112 kB)\n",
      "\u001b[2K     \u001b[90m━━━━━━━━━━━━━━━━━━━━━━━━━━━━━━━━━━━━━━━\u001b[0m \u001b[32m112.2/112.2 kB\u001b[0m \u001b[31m1.9 MB/s\u001b[0m eta \u001b[36m0:00:00\u001b[0ma \u001b[36m0:00:01\u001b[0m\n",
      "\u001b[?25hRequirement already satisfied: pandas>=1.3.0 in /Users/aryanpaddy/opt/anaconda3/lib/python3.9/site-packages (from yfinance) (1.4.4)\n",
      "Collecting multitasking>=0.0.7\n",
      "  Using cached multitasking-0.0.11-py3-none-any.whl (8.5 kB)\n",
      "Requirement already satisfied: soupsieve>1.2 in /Users/aryanpaddy/opt/anaconda3/lib/python3.9/site-packages (from beautifulsoup4>=4.11.1->yfinance) (2.3.1)\n",
      "Requirement already satisfied: cffi>=1.12 in /Users/aryanpaddy/opt/anaconda3/lib/python3.9/site-packages (from cryptography>=3.3.2->yfinance) (1.15.1)\n",
      "Requirement already satisfied: six>=1.9 in /Users/aryanpaddy/opt/anaconda3/lib/python3.9/site-packages (from html5lib>=1.1->yfinance) (1.16.0)\n",
      "Requirement already satisfied: webencodings in /Users/aryanpaddy/opt/anaconda3/lib/python3.9/site-packages (from html5lib>=1.1->yfinance) (0.5.1)\n",
      "Requirement already satisfied: python-dateutil>=2.8.1 in /Users/aryanpaddy/opt/anaconda3/lib/python3.9/site-packages (from pandas>=1.3.0->yfinance) (2.8.2)\n",
      "Requirement already satisfied: idna<4,>=2.5 in /Users/aryanpaddy/opt/anaconda3/lib/python3.9/site-packages (from requests>=2.26->yfinance) (3.3)\n",
      "Requirement already satisfied: charset-normalizer<3,>=2 in /Users/aryanpaddy/opt/anaconda3/lib/python3.9/site-packages (from requests>=2.26->yfinance) (2.0.4)\n",
      "Requirement already satisfied: urllib3<1.27,>=1.21.1 in /Users/aryanpaddy/opt/anaconda3/lib/python3.9/site-packages (from requests>=2.26->yfinance) (1.26.11)\n",
      "Requirement already satisfied: certifi>=2017.4.17 in /Users/aryanpaddy/opt/anaconda3/lib/python3.9/site-packages (from requests>=2.26->yfinance) (2022.9.24)\n",
      "Requirement already satisfied: pycparser in /Users/aryanpaddy/opt/anaconda3/lib/python3.9/site-packages (from cffi>=1.12->cryptography>=3.3.2->yfinance) (2.21)\n",
      "Installing collected packages: pytz, multitasking, html5lib, frozendict, yfinance\n",
      "  Attempting uninstall: pytz\n",
      "    Found existing installation: pytz 2022.1\n",
      "    Uninstalling pytz-2022.1:\n",
      "      Successfully uninstalled pytz-2022.1\n",
      "\u001b[31mERROR: pip's dependency resolver does not currently take into account all the packages that are installed. This behaviour is the source of the following dependency conflicts.\n",
      "conda-repo-cli 1.0.20 requires clyent==1.2.1, but you have clyent 1.2.2 which is incompatible.\n",
      "conda-repo-cli 1.0.20 requires nbformat==5.4.0, but you have nbformat 5.5.0 which is incompatible.\u001b[0m\u001b[31m\n",
      "\u001b[0mSuccessfully installed frozendict-2.3.4 html5lib-1.1 multitasking-0.0.11 pytz-2022.7 yfinance-0.2.3\n"
     ]
    }
   ],
   "source": [
    "!pip install yfinance"
   ]
  },
  {
   "cell_type": "markdown",
   "id": "252c9a78",
   "metadata": {},
   "source": [
    "We will also be using Pandas to frame our historical price data. After importing, we will initialize our criteria for what we consider a loss or a win. For this backtest, we will use 5% (0.05) as the guage. "
   ]
  },
  {
   "cell_type": "code",
   "execution_count": 2,
   "id": "d5926148",
   "metadata": {},
   "outputs": [],
   "source": [
    "from decimal import DivisionByZero\n",
    "import yfinance as yf\n",
    "import pandas as pd\n",
    "import matplotlib.pyplot as plt\n",
    "lossPercent = 0.05\n",
    "successsPercent = 0.05"
   ]
  },
  {
   "cell_type": "markdown",
   "id": "b6aa5262",
   "metadata": {},
   "source": [
    "We have selected a diversified list of stocks to get a better idea of the capabilities of the strategy on the market. To do this, we will be testing the strategy on the sector ETFs including the S&P 500 ETF and the Nasdaq 100 ETF. If you would like to backtest on the entire S&P 500, you can use pandas to read the wikipedia list of ticker symbols and add it to a list. For this case however, we will stick to the the ETFs. We will also initialize our win counter and total trades counter. "
   ]
  },
  {
   "cell_type": "code",
   "execution_count": 3,
   "id": "3eb7cd2e",
   "metadata": {},
   "outputs": [],
   "source": [
    "# tickers = pd.read_html('https://en.wikipedia.org/wiki/List_of_S%26P_500_companies')[0].Symbol.to_list()\n",
    "# tickers = [i.replace('.', '-') for i in tickers]\n",
    "\n",
    "\n",
    "tickers = ['SPY', 'QQQ', 'XLE', 'XLF', 'XLV', 'XLU', 'XLI', 'XLP', 'XOP']\n",
    "\n",
    "totalWin = 0\n",
    "totalTotal = 0 \n"
   ]
  },
  {
   "cell_type": "markdown",
   "id": "6261b918",
   "metadata": {},
   "source": [
    "To grab our OHLC data, we will call each stock in the list of tickers create a position variable (to know if the stock is in a position or not), an enterPrice variable, an enterTime variable, and the local win and total. Then, we will grab each ticker's historical data from the past 360 days with a timeframe of 60 mins. The structure of a Dragon Fly DOJI candle is a doji candle below the previous candle close with an excetionally long tail. To recreate this structure, we will need the closing price, the previous candle close, the low price, and the open price. After grabbing those price points by looping through the initial dataframe, we then set our conditions for the 'buy'. If bought, the position will be set to entered and it will wait for it to change back to none to find another trade. To be set back to none, it will wait for the sell conditions to hit (5% threshold is met). If the 5% move is in the upside, it will count it as a win and vice verse for the 5% move being to the downside. "
   ]
  },
  {
   "cell_type": "code",
   "execution_count": 4,
   "id": "fa60044d",
   "metadata": {},
   "outputs": [
    {
     "name": "stdout",
     "output_type": "stream",
     "text": [
      "[*********************100%***********************]  1 of 1 completed\n",
      "SPY: 4/4 - 100.0\n",
      "[*********************100%***********************]  1 of 1 completed\n",
      "QQQ: 4/4 - 100.0\n",
      "[*********************100%***********************]  1 of 1 completed\n",
      "XLE: 5/9 - 55.55555555555556\n",
      "[*********************100%***********************]  1 of 1 completed\n",
      "XLF: 2/3 - 66.66666666666666\n",
      "[*********************100%***********************]  1 of 1 completed\n",
      "XLV: 0/0 - NA\n",
      "[*********************100%***********************]  1 of 1 completed\n",
      "XLU: 2/2 - 100.0\n",
      "[*********************100%***********************]  1 of 1 completed\n",
      "XLI: 1/1 - 100.0\n",
      "[*********************100%***********************]  1 of 1 completed\n",
      "XLP: 0/0 - NA\n",
      "[*********************100%***********************]  1 of 1 completed\n",
      "XOP: 7/14 - 50.0\n"
     ]
    }
   ],
   "source": [
    "for stock in tickers:\n",
    "\n",
    "    #start loop for each day\n",
    "    pos = \"none\"\n",
    "    enterPrice = None\n",
    "    enterTime = None\n",
    "    win = 0\n",
    "    total = 0\n",
    "\n",
    "    enterTimes = []\n",
    "    enterPrices = []\n",
    "\n",
    "    hourDf = yf.download(stock, period=\"360d\",interval = \"60m\")\n",
    "\n",
    "    hourData = hourDf[\"Close\"]\n",
    "    closePrv = hourDf[\"Close\"].shift()\n",
    "\n",
    "    longData = hourDf['Close'].shift(3)\n",
    "\n",
    "\n",
    "    \n",
    "    for hour in hourData.index:\n",
    "        price = hourData[hour]\n",
    "        closePast = closePrv[hour]\n",
    "        open = hourDf['Open'][hour]\n",
    "        high = hourDf['High'][hour]\n",
    "        low = hourDf['Low'][hour]\n",
    "        long_data = longData[hour]\n",
    "\n",
    "        if pos == 'none':\n",
    "            if open * 1.0035 < closePast:\n",
    "                if price > open:\n",
    "                    if price < closePast:\n",
    "                        if price * 1.01 < long_data:\n",
    "                            if low * 1.01 < price:\n",
    "                                enterPrice = price\n",
    "                                pos = 'entered'\n",
    "\n",
    "\n",
    "        elif pos == 'entered':\n",
    "            if price > enterPrice * (1 + successsPercent):\n",
    "                win += 1\n",
    "                total += 1\n",
    "                pos = 'none'\n",
    "                totalWin += 1\n",
    "                totalTotal += 1\n",
    "            elif price < enterPrice * (1 - lossPercent):\n",
    "                total += 1\n",
    "                pos = 'none'\n",
    "                totalTotal += 1\n",
    "    try: \n",
    "        winrate = (win/total) * 100 \n",
    "    except:\n",
    "        winrate = 'NA'\n",
    "    print(f'{stock}: {win}/{total} - {winrate}')\n",
    "\n"
   ]
  },
  {
   "cell_type": "markdown",
   "id": "72b002c1",
   "metadata": {},
   "source": [
    "To find the overall success rate, we will use the total win and total trades counter. "
   ]
  },
  {
   "cell_type": "code",
   "execution_count": 5,
   "id": "3019e09c",
   "metadata": {},
   "outputs": [
    {
     "name": "stdout",
     "output_type": "stream",
     "text": [
      "Total: 25/37 - 67.56756756756756%\n"
     ]
    }
   ],
   "source": [
    "winPerc = (totalWin / totalTotal) * 100\n",
    "print(f'Total: {totalWin}/{totalTotal} - {winPerc}%')"
   ]
  },
  {
   "cell_type": "markdown",
   "id": "d90365d2",
   "metadata": {},
   "source": [
    "# # Important Note"
   ]
  },
  {
   "cell_type": "markdown",
   "id": "9b62eb8a",
   "metadata": {},
   "source": [
    "Success rates are typically a good determinant in seeing if a particular strategy is profitable in the long term. In this experiment, we developed a strategy that is 67% successful in over 35 trades with a time frame of 1 year. With a quick glance, we can see that the strategy appears to be profitable. HOWEVER, I believe that these results do not, and should not determine if the strategy works consistantly in the long run. If we run the same strategy but for 720 days instead, we see different results. "
   ]
  },
  {
   "cell_type": "code",
   "execution_count": 8,
   "id": "dfd665c8",
   "metadata": {},
   "outputs": [],
   "source": [
    "# tickers = pd.read_html('https://en.wikipedia.org/wiki/List_of_S%26P_500_companies')[0].Symbol.to_list()\n",
    "# tickers = [i.replace('.', '-') for i in tickers]\n",
    "\n",
    "\n",
    "tickers = ['SPY', 'QQQ', 'XLE', 'XLF', 'XLV', 'XLU', 'XLI', 'XLP', 'XOP']\n",
    "\n",
    "totalWin = 0\n",
    "totalTotal = 0 \n"
   ]
  },
  {
   "cell_type": "code",
   "execution_count": 9,
   "id": "6999bfa9",
   "metadata": {},
   "outputs": [
    {
     "name": "stdout",
     "output_type": "stream",
     "text": [
      "[*********************100%***********************]  1 of 1 completed\n",
      "SPY: 6/8 - 75.0\n",
      "[*********************100%***********************]  1 of 1 completed\n",
      "QQQ: 7/11 - 63.63636363636363\n",
      "[*********************100%***********************]  1 of 1 completed\n",
      "XLE: 10/20 - 50.0\n",
      "[*********************100%***********************]  1 of 1 completed\n",
      "XLF: 4/9 - 44.44444444444444\n",
      "[*********************100%***********************]  1 of 1 completed\n",
      "XLV: 0/2 - 0.0\n",
      "[*********************100%***********************]  1 of 1 completed\n",
      "XLU: 2/5 - 40.0\n",
      "[*********************100%***********************]  1 of 1 completed\n",
      "XLI: 2/4 - 50.0\n",
      "[*********************100%***********************]  1 of 1 completed\n",
      "XLP: 3/4 - 75.0\n",
      "[*********************100%***********************]  1 of 1 completed\n",
      "XOP: 14/28 - 50.0\n"
     ]
    }
   ],
   "source": [
    "for stock in tickers:\n",
    "\n",
    "    #start loop for each day\n",
    "    pos = \"none\"\n",
    "    enterPrice = None\n",
    "    enterTime = None\n",
    "    win = 0\n",
    "    total = 0\n",
    "\n",
    "    enterTimes = []\n",
    "    enterPrices = []\n",
    "\n",
    "    hourDf = yf.download(stock, period=\"720d\",interval = \"60m\")\n",
    "\n",
    "    hourData = hourDf[\"Close\"]\n",
    "    closePrv = hourDf[\"Close\"].shift()\n",
    "\n",
    "    longData = hourDf['Close'].shift(3)\n",
    "\n",
    "\n",
    "    \n",
    "    for hour in hourData.index:\n",
    "        price = hourData[hour]\n",
    "        closePast = closePrv[hour]\n",
    "        open = hourDf['Open'][hour]\n",
    "        high = hourDf['High'][hour]\n",
    "        low = hourDf['Low'][hour]\n",
    "        long_data = longData[hour]\n",
    "\n",
    "        if pos == 'none':\n",
    "            if open * 1.0035 < closePast:\n",
    "                if price > open:\n",
    "                    if price < closePast:\n",
    "                        if price * 1.01 < long_data:\n",
    "                            if low * 1.01 < price:\n",
    "                                enterPrice = price\n",
    "                                pos = 'entered'\n",
    "\n",
    "\n",
    "        elif pos == 'entered':\n",
    "            if price > enterPrice * (1 + successsPercent):\n",
    "                win += 1\n",
    "                total += 1\n",
    "                pos = 'none'\n",
    "                totalWin += 1\n",
    "                totalTotal += 1\n",
    "            elif price < enterPrice * (1 - lossPercent):\n",
    "                total += 1\n",
    "                pos = 'none'\n",
    "                totalTotal += 1\n",
    "    try: \n",
    "        winrate = (win/total) * 100 \n",
    "    except:\n",
    "        winrate = 'NA'\n",
    "    print(f'{stock}: {win}/{total} - {winrate}')\n",
    "\n"
   ]
  },
  {
   "cell_type": "code",
   "execution_count": 10,
   "id": "43ebb6cc",
   "metadata": {},
   "outputs": [
    {
     "name": "stdout",
     "output_type": "stream",
     "text": [
      "Total: 48/91 - 52.74725274725275%\n"
     ]
    }
   ],
   "source": [
    "winPerc = (totalWin / totalTotal) * 100\n",
    "print(f'Total: {totalWin}/{totalTotal} - {winPerc}%')"
   ]
  },
  {
   "cell_type": "markdown",
   "id": "d7e5ab14",
   "metadata": {},
   "source": [
    "It is clear that over the past 2 years, this strategy is barely more successful than a fair coin flip. The market conditions are a very important factor when testing a strategy. One strategy may work for a certain market condition but not a different one. It is clear from this that even though this strategy worked decently well with an r-multiple of 1:1 in the first 360d, when averaged out with the prior year, it worsens significantly. "
   ]
  },
  {
   "cell_type": "markdown",
   "id": "aa884398",
   "metadata": {},
   "source": [
    "## Conclusion"
   ]
  },
  {
   "cell_type": "markdown",
   "id": "d36ca3df",
   "metadata": {},
   "source": [
    "In this test, we attempted to backtest the Dragon Fly DOJI candle formation to locate market bottoms and our results were inconclusive. "
   ]
  }
 ],
 "metadata": {
  "kernelspec": {
   "display_name": "Python 3 (ipykernel)",
   "language": "python",
   "name": "python3"
  },
  "language_info": {
   "codemirror_mode": {
    "name": "ipython",
    "version": 3
   },
   "file_extension": ".py",
   "mimetype": "text/x-python",
   "name": "python",
   "nbconvert_exporter": "python",
   "pygments_lexer": "ipython3",
   "version": "3.9.13"
  }
 },
 "nbformat": 4,
 "nbformat_minor": 5
}
